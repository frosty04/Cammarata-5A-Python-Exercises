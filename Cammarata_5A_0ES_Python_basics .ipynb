{
  "cells": [
    {
      "cell_type": "markdown",
      "metadata": {
        "id": "q4KH5Ja2qLt1"
      },
      "source": [
        "# Python from Scratch - Esercizi\n",
        "\n",
        "*Chinellato Diego - TPSIT*\n",
        "\n",
        "*ITTS V. Volterra*\n",
        "\n",
        "*A.S. 2022/2023*"
      ]
    },
    {
      "cell_type": "markdown",
      "source": [
        "Ogni esercizio è accompagnato da una serie di `assert` che verificano se la funzione è corretta. In poche parole, `assert` è un operatore Python (ma è presente in molti linguaggi) che lancia un'eccezione se una certa condizione non viene rispettata:"
      ],
      "metadata": {
        "id": "W2tPFm9Qf5oB"
      }
    },
    {
      "cell_type": "code",
      "source": [
        "assert 1 == 1, 'primo assert passato'\n",
        "assert 1 == 2, 'secondo assert fallito'"
      ],
      "metadata": {
        "colab": {
          "base_uri": "https://localhost:8080/",
          "height": 186
        },
        "id": "tTHxYOftjXTa",
        "outputId": "711853cf-cfeb-4058-a49a-3482cc1175d9"
      },
      "execution_count": null,
      "outputs": [
        {
          "output_type": "error",
          "ename": "AssertionError",
          "evalue": "ignored",
          "traceback": [
            "\u001b[0;31m---------------------------------------------------------------------------\u001b[0m",
            "\u001b[0;31mAssertionError\u001b[0m                            Traceback (most recent call last)",
            "\u001b[0;32m<ipython-input-1-c83e0d764d73>\u001b[0m in \u001b[0;36m<module>\u001b[0;34m\u001b[0m\n\u001b[1;32m      1\u001b[0m \u001b[0;32massert\u001b[0m \u001b[0;36m1\u001b[0m \u001b[0;34m==\u001b[0m \u001b[0;36m1\u001b[0m\u001b[0;34m,\u001b[0m \u001b[0;34m'primo assert passato'\u001b[0m\u001b[0;34m\u001b[0m\u001b[0;34m\u001b[0m\u001b[0m\n\u001b[0;32m----> 2\u001b[0;31m \u001b[0;32massert\u001b[0m \u001b[0;36m1\u001b[0m \u001b[0;34m==\u001b[0m \u001b[0;36m2\u001b[0m\u001b[0;34m,\u001b[0m \u001b[0;34m'second assert fallito'\u001b[0m\u001b[0;34m\u001b[0m\u001b[0;34m\u001b[0m\u001b[0m\n\u001b[0m",
            "\u001b[0;31mAssertionError\u001b[0m: second assert fallito"
          ]
        }
      ]
    },
    {
      "cell_type": "markdown",
      "source": [
        "La sintassi è `assert check msg`, dove `check` è l'espressione booleana da valutare e `msg` è il messaggio che viene printato se il check fallisce. Sono estremamente utili, sopratutto per debuggare e testare il codice. Per approffondire: https://realpython.com/python-assert-statement/"
      ],
      "metadata": {
        "id": "Mq5gngc7juaz"
      }
    },
    {
      "cell_type": "markdown",
      "metadata": {
        "id": "KizLECz3qLuR"
      },
      "source": [
        "## Esercizio 1: find and replace\n",
        "\n",
        "Find-and-replace è una feature molto comune in text editors, IDEs e software di word processing. In questo esercizio, dovrai implementare questa comune funzione.\n",
        "\n",
        "Definisci una funzione `find_and_replace(text, old_text, new_text)` che sostituisce tutte le occorrenze di `old_text` in `text` con `new_text`. La funzione deve essere case sensitive (vedi esempi nella cella con assert)."
      ]
    },
    {
      "cell_type": "code",
      "source": [
        "def find_and_replace(text, old_text, new_text):\n",
        "  return text.replace(old_text, new_text) # ritorno con sostituzione stringhe\n",
        "  pass"
      ],
      "metadata": {
        "id": "xxJXSbw8fZUN"
      },
      "execution_count": null,
      "outputs": []
    },
    {
      "cell_type": "code",
      "execution_count": null,
      "metadata": {
        "id": "s4YnBPK8qLuR"
      },
      "outputs": [],
      "source": [
        "assert find_and_replace('The fox', 'fox', 'dog') == 'The dog'\n",
        "assert find_and_replace('fox', 'fox', 'dog') == 'dog'\n",
        "assert find_and_replace('Firefox', 'fox', 'dog') == 'Firedog'\n",
        "assert find_and_replace('foxfox', 'fox', 'dog') == 'dogdog'\n",
        "assert find_and_replace('The Fox and fox.', 'fox', 'dog') == 'The Fox and dog.'\n",
        "assert find_and_replace('THE FOX AND THE DOG', 'fox', 'dog') == 'THE FOX AND THE DOG'"
      ]
    },
    {
      "cell_type": "markdown",
      "source": [
        "## Esercizio 2: ore, minuti, secondi\n",
        "Definisci una funzione `get_hours_minutes_seconds(seconds)` che converte il numero di secondi passato come parametro nel numero di ore, minuti e secondi.\n",
        "Ad esempio, `get_hours_minutes_seconds(90)` deve ritornare '1m 30s'\n",
        "Per una sfida in più, considera anche il periodo di 24 ore e aggiungi il suffisso \"d\"; ad esempio, `get_hours_minutes_seconds(90042)` ritorna '1d 1h 42s'."
      ],
      "metadata": {
        "id": "veZRTaASf2rZ"
      }
    },
    {
      "cell_type": "code",
      "source": [
        "def get_hours_minutes_seconds(seconds):\n",
        "\n",
        "    hours = seconds // 3600\n",
        "    seconds %= 3600\n",
        "    minutes = seconds // 60\n",
        "    seconds %= 60\n",
        "\n",
        "    # Crea una stringa di output vuota con il formato desiderato\n",
        "    output = \"\"\n",
        "\n",
        "    # funzione ore\n",
        "    if hours > 0:\n",
        "        if hours == 1 and minutes == 0 and seconds == 0:\n",
        "          output += '1h'\n",
        "        else: \n",
        "          output += str(hours) + \"h \"\n",
        "\n",
        "    #funzione minuti\n",
        "    if minutes > 0:\n",
        "        if minutes == 60:\n",
        "          output += '1h'\n",
        "        if minutes == 1 and seconds == 0:\n",
        "          output += '1m'\n",
        "        else: \n",
        "          if minutes > 60:\n",
        "            output += str(hours) + \"h \" + str(seconds) + \"s\"\n",
        "          else: \n",
        "            output += str(minutes) + \"m \"\n",
        "\n",
        "    #funzione secondi\n",
        "    if seconds > 0:\n",
        "      if seconds == 60:\n",
        "        output += '1m'\n",
        "      else:\n",
        "        output += str(seconds) + \"s\"\n",
        "\n",
        "    return output"
      ],
      "metadata": {
        "id": "taOZevsskr_0"
      },
      "execution_count": null,
      "outputs": []
    },
    {
      "cell_type": "code",
      "source": [
        "assert get_hours_minutes_seconds(30) == '30s'\n",
        "assert get_hours_minutes_seconds(60) == '1m'\n",
        "assert get_hours_minutes_seconds(90) == '1m 30s'\n",
        "assert get_hours_minutes_seconds(3600) == '1h'\n",
        "assert get_hours_minutes_seconds(3601) == '1h 1s'\n",
        "assert get_hours_minutes_seconds(3661) == '1h 1m 1s'\n",
        "assert get_hours_minutes_seconds(90042) == '25h 42s'\n",
        "assert get_hours_minutes_seconds(10) == '10s'"
      ],
      "metadata": {
        "id": "DX3TsjlbksgK"
      },
      "execution_count": null,
      "outputs": []
    },
    {
      "cell_type": "markdown",
      "source": [
        "## Esercizio 3: massimi e minimi, somme e prodotti, medie e mediane \n",
        "Scrivere le seguenti funzioni che \"riducono\" un iterabile (lista, tupla, set, ...) a un singolo valore:\n",
        "* `maximum(t)` e `minimum(t)` che ritornano rispettivamente il valore massimo e minimo presente in `t`\n",
        "* `somma(t)` e `prod(t)` che ritornano rispettivamente la somma e il prodotto di tutti gli elementi di `t`\n",
        "* `moda(t)` che ritorna l'elemento più frequente di `t`\n",
        "* `avg(t)` e `median(t)` che ritornano rispettivamente la media e la mediana di `t`. \n",
        "  * Assumendo che `t` contenga `n` elementi, la media è definita come: $\\frac{1}{n}∑_{x \\in t}x$. \n",
        "  * La mediana è invece definita come l'elemento centrale di t, dopo che t è stato ordinato in ordine crescente. Se n è dispari, l'elemento centrale è l'elemento in posizione $\\frac{n+1}{2}$, mentre se n è pari l'elemento centrale è la media dei due elementi nelle posizioni $\\frac{n}{2}, \\frac{n}{2} + 1$ ($\\frac{t[\\frac{n}{2}] + t[\\frac{n}{2} + 1]}{2}$)."
      ],
      "metadata": {
        "id": "nmN8-W4mpWGh"
      }
    },
    {
      "cell_type": "code",
      "source": [
        "def maximum(t):\n",
        "  t.sort()\n",
        "  return t[len(t)-1]\n",
        "  # Ritorna il valore massimo presente in t.\n",
        "\n",
        "def minimum(t):\n",
        "  return min(t)\n",
        "  # Ritorna il valore minimo presente in t.\n",
        "\n",
        "def somma(t):\n",
        "  somma = 0\n",
        "  for i in t: \n",
        "    somma = somma + i\n",
        "  return somma\n",
        "  # Ritorna la somma dei valori presenti in t avvalendosi di una variabile ausiliaria.\n",
        "\n",
        "def prod(t):\n",
        "  prodotto_temp = 1\n",
        "  for i in t:\n",
        "    prodotto_temp*=i\n",
        "  return prodotto_temp\n",
        "  # Ritorna il prodotto dei valori presenti in t avvalendosi di una variabile ausiliaria.\n",
        "\n",
        "\n",
        "def moda(t):\n",
        "    counter_max = 0\n",
        "    counter = 0\n",
        "    risultato = 0\n",
        "    for i in t:\n",
        "      for j in range(len(t)): # scorro lista t\n",
        "        if i == t[j]: # se trovo elementi uguali incremento il counter\n",
        "            counter +=1\n",
        "      if(counter > counter_max):\n",
        "        risultato = i # salvo il numero più frequente\n",
        "        counter_max = counter\n",
        "      counter = 0\n",
        "    return risultato \n",
        "    # Ritorna l'elemento più \"frequente\" in t.\n",
        "\n",
        "\n",
        "def avg(t):\n",
        "  return somma(t)/len(t) # len(t) numero oggetti lista\n",
        "  # Ritorna la media di t.\n",
        "\n",
        "\n",
        "def median(t):\n",
        "  t = sorted(t) # lista ordinata\n",
        "  n = len(t) # numero elementi lista t\n",
        "  if n % 2 == 0: # % == resto\n",
        "    return (t[n // 2] + t[n // 2 - 1]) / 2\n",
        "  else:\n",
        "    return t[n // 2]\n",
        "    # Ritorna la mediana di t.\n"
      ],
      "metadata": {
        "id": "jSWg4OXPseaK"
      },
      "execution_count": null,
      "outputs": []
    },
    {
      "cell_type": "code",
      "source": [
        "t = [1, 2, 3, 4, 5, 7]\n",
        "assert maximum(t) == 7\n",
        "assert minimum(t) == 1\n",
        "assert somma(t) == 22\n",
        "assert prod(t) == 840\n",
        "assert round(avg(t), 2) == 3.67\n",
        "assert median(t) == 3.5\n",
        "\n",
        "assert moda([1, 2, 3, 1, 2, 1, 1, 1, 2]) == 1\n",
        "assert moda([1, 2, 3, 3, 3, 1, 2, 1, 2, 3, 3, 3]) == 3\n",
        "\n",
        "# mescolare t non deve cambiare la mediana\n",
        "import random\n",
        "random.seed(42)\n",
        "t = [3, 7, 10, 4, 1, 9, 6, 2, 8]\n",
        "for _ in range(5):\n",
        "  random.shuffle(t)\n",
        "  assert median(t) == 6"
      ],
      "metadata": {
        "id": "Uc8YEPOnsfdg"
      },
      "execution_count": null,
      "outputs": []
    },
    {
      "cell_type": "markdown",
      "source": [
        "## Esercizio 4: generatore di password\n",
        "Definisci una funzione `gen_pwd(length)` che genera una password casuale di lunghezza `length`. Per sicurezza, la password deve sempre essere di almeno 8 caratteri (anche nei casi in cui `length < 8`). La password ritornata (stringa) deve contenere almeno una lettera minuscola, una maiuscola, un numero e un carattere speciale. I caratteri speciali sono i seguenti: ~!@#$%^&*()_+.\n",
        "La soluzione dovrebbe importare il modulo `random` per generare queste password in maniera casuale. "
      ],
      "metadata": {
        "id": "l20W01nvuIWx"
      }
    },
    {
      "cell_type": "code",
      "source": [
        "import string\n",
        "import random\n",
        "\n",
        "def gen_pwd(length):\n",
        "    # definiamo le stringhe che serviranno per la creazione della password\n",
        "    ascii_uppercase = string.ascii_uppercase\n",
        "    ascii_lowercase = string.ascii_lowercase\n",
        "    digits = string.digits\n",
        "    special = '~!@#$%^&*()_+'\n",
        "    \n",
        "    # se length è minore di 8, impostiamo la length a 8\n",
        "    if length < 8:\n",
        "        length = 8\n",
        "    \n",
        "    # selezioniamo randomicamente una lettera maiuscola, una lettera minuscola, un numero e un carattere speciale\n",
        "    uppercase_letter = random.choice(ascii_uppercase)\n",
        "    lowercase_letter = random.choice(ascii_lowercase)\n",
        "    digit = random.choice(digits)\n",
        "    special_char = random.choice(special)\n",
        "    \n",
        "    # concateniamo in una stringa\n",
        "    pwd = uppercase_letter + lowercase_letter + digit + special_char\n",
        "    \n",
        "    # aggiungiamo altri caratteri casuali alla password, così da arrivare ad 8\n",
        "    if length > 4:\n",
        "        for i in range(length - 4):\n",
        "            pwd += random.choice(ascii_uppercase + ascii_lowercase + digits + special) # costruzione stringa \"password\"\n",
        "    \n",
        "    # mescoliamo i caratteri nella password\n",
        "    pwd = ''.join(random.sample(pwd, len(pwd)))\n",
        "    \n",
        "    return pwd\n"
      ],
      "metadata": {
        "id": "U0UoEo_euH33"
      },
      "execution_count": null,
      "outputs": []
    },
    {
      "cell_type": "code",
      "source": [
        "assert len(gen_pwd(7)) == 8 \n",
        "assert len(gen_pwd(8)) == 8 \n",
        "from string import ascii_uppercase, ascii_lowercase, digits\n",
        "special = '~!@#$%^&*()_+.'\n",
        "pwd = gen_pwd(8)\n",
        "assert any(c in pwd for c in ascii_uppercase), 'uppercase letter missing'\n",
        "assert any(c in pwd for c in ascii_lowercase), 'lowercase letter missing'\n",
        "assert any(d in pwd for d in digits), 'digit missing'\n",
        "assert any(s in pwd for s in special), 'special char missing'"
      ],
      "metadata": {
        "id": "fuBNhAuq7aM1"
      },
      "execution_count": null,
      "outputs": []
    },
    {
      "cell_type": "markdown",
      "source": [
        "## Esercizio 5: Bubble Sort\n",
        "Il Bubble Sort è un algoritmo di ordinamento, spesso il primo insegnato agli studenti di informatica. Anche se inefficiente e inadatto al software del mondo reale, è un algoritmo molto semplice da capire e implementare. L'idea è iterare ripetutamente il vettore da ordinare, considerando coppie consecutive di elementi; se la coppia non è in ordine (cioè, in posizione $i-1$ c'è un elemento più grande di quello in posizione $i$), i due elementi vengono scambiati. L'algoritmo termina quanto itero il vettore dall'inizio alla fine senza effettuare alcuno swap. Su Wikipedia (https://en.wikipedia.org/wiki/Bubble_sort) trovate una spiegazione più dettagliata e un esempio visivo, oltre al pseudocodice.\n",
        "\n",
        "Definisci una funzione `bubble_sort(numbers)` che ordina in-place (senza creare una nuova variabile) la lista `numbers` tramite bubble sort e ritorna la lista ordinata. \n",
        "\n",
        "\n"
      ],
      "metadata": {
        "id": "Ek2SNDO6HLlP"
      }
    },
    {
      "cell_type": "code",
      "source": [
        "def bubble_sort(numbers):\n",
        "  for i in range(len(numbers)-1,0,-1): # scorriamo l'array dall'ultimo elemento in poi \"incrementando di -1\"\n",
        "    for j in range(i):\n",
        "      if numbers[j] > numbers[j+1]: # Se il valore all'indice j è maggiore del valore successivo, scambiamo i valori\n",
        "        numbers[j], numbers[j+1] = numbers[j+1], numbers[j] # \"scambio valori\"\n",
        "  return numbers"
      ],
      "metadata": {
        "id": "FFjq5dNgHMLP"
      },
      "execution_count": null,
      "outputs": []
    },
    {
      "cell_type": "code",
      "source": [
        "assert bubble_sort([2, 0, 4, 1, 3]) == [0, 1, 2, 3, 4]\n",
        "assert bubble_sort([2, 2, 2, 2]) == [2, 2, 2, 2]"
      ],
      "metadata": {
        "id": "n8oGTsv6IIEH"
      },
      "execution_count": null,
      "outputs": []
    },
    {
      "cell_type": "markdown",
      "source": [
        "## Esercizio 6: strette di mano\n",
        "Definisci una funzione `print_handshakes(people)` che, data una lista di nomi di persone `people` printa \"X shakes hands with Y\", where X e Y sono tutte le possibili combinazioni di strette di mano tra persone nella lista. Non devono esserci duplicati - se A stringe la mano a B, B non deve stringerla ad A. Ad esempio, `print_handshakes(['Alice', 'Bob', 'Carol', 'David'])` dovrebbe printare:\n",
        "\n",
        "Alice shakes hands with Bob\n",
        "Alice shakes hands with Carol\n",
        "Alice shakes hands with David\n",
        "Bob shakes hands with Carol\n",
        "Bob shakes hands with David\n",
        "Carol shakes hands with David\n",
        "\n",
        "La funzione deve anche ritornare un intero che rappresenta il numero totale di strette di mano."
      ],
      "metadata": {
        "id": "LVTlxByZP8fB"
      }
    },
    {
      "cell_type": "code",
      "source": [
        "def print_handshakes(people):\n",
        "  counter = 0\n",
        "  for i in range(len(people)): # \"scorriamo la lista\" people\n",
        "    for j in range(i+1, len(people)): # \"generazione combinazioni possibili\"\n",
        "      print(f\"{people[i]} shakes hands with {people[j]}\") #print(f\") stampaggio stringa formattata\n",
        "      counter += 1\n",
        "  print(counter)\n",
        "  return counter"
      ],
      "metadata": {
        "id": "Evxe0gVmQDjK"
      },
      "execution_count": null,
      "outputs": []
    },
    {
      "cell_type": "code",
      "source": [
        "assert print_handshakes(['Alice', 'Bob']) == 1\n",
        "assert print_handshakes(['Alice', 'Bob', 'Carol']) == 3\n",
        "assert print_handshakes(['Alice', 'Bob', 'Carol', 'David']) == 6"
      ],
      "metadata": {
        "id": "AkBViajXP76Y",
        "colab": {
          "base_uri": "https://localhost:8080/"
        },
        "outputId": "85f87deb-80e7-4a2c-920d-9fa82e56309c"
      },
      "execution_count": null,
      "outputs": [
        {
          "output_type": "stream",
          "name": "stdout",
          "text": [
            "Alice shakes hands with Bob\n",
            "1\n",
            "Alice shakes hands with Bob\n",
            "Alice shakes hands with Carol\n",
            "Bob shakes hands with Carol\n",
            "3\n",
            "Alice shakes hands with Bob\n",
            "Alice shakes hands with Carol\n",
            "Alice shakes hands with David\n",
            "Bob shakes hands with Carol\n",
            "Bob shakes hands with David\n",
            "Carol shakes hands with David\n",
            "6\n"
          ]
        }
      ]
    },
    {
      "cell_type": "markdown",
      "source": [
        "## Esercizio 7: random shuffle\n",
        "Definisci una funzione `shuffle(values)` che mescola la lista `values`, ovvero modifica in maniera randomica la posizione di ogni elemento della lista. La funzione non deve ritornare la lista ordinata. La lista mescolata deve contenere gli stessi elementi, ma in un ordine diverso (random).\n",
        "Nota: l'esercizio chiede di implementare una funzione identical al `random.shuffle()` nativamente incluso in Python. Chiaramente, evita di usare questa funzione dato che renderebbe l'esercizio inutile."
      ],
      "metadata": {
        "id": "lN9tHYCwVBYC"
      }
    },
    {
      "cell_type": "code",
      "source": [
        "import random\n",
        "\n",
        "def shuffle(values):\n",
        "  if len(values)==0: # funzione len() restituisce numero elementi in un oggetto\n",
        "        pass\n",
        "  else:\n",
        "    j = random.randint(0, len(values) - 1) # \"randomizziamo\" la posizione degli elementi\n",
        "    for i in range(len(values)): # scorrendo la lista\n",
        "      values[i], values[j] = values[j], values[i] # scambio posizione elementi\n",
        "  return values"
      ],
      "metadata": {
        "id": "ZWY4SZFpVB7h"
      },
      "execution_count": null,
      "outputs": []
    },
    {
      "cell_type": "code",
      "source": [
        "random.seed(42)\n",
        "# Perform this test ten times:\n",
        "for i in range(10):\n",
        "  testData1 = [1, 2, 3, 4, 5, 6, 7, 8, 9, 10]\n",
        "shuffle(testData1)\n",
        "# Make sure the number of values hasn't changed:\n",
        "assert len(testData1) == 10\n",
        "# Make sure the order has changed:\n",
        "assert testData1 != [1, 2, 3, 4, 5, 6, 7, 8, 9, 10]\n",
        "# Make sure that when re-sorted, all the original values are there:\n",
        "assert sorted(testData1) == [1, 2, 3, 4, 5, 6, 7, 8, 9, 10]\n",
        "# Make sure an empty list shuffled remains empty:\n",
        "testData2 = []\n",
        "shuffle(testData2)\n",
        "assert testData2 == []"
      ],
      "metadata": {
        "id": "ivenskRyVENk"
      },
      "execution_count": null,
      "outputs": []
    },
    {
      "cell_type": "markdown",
      "source": [
        "## Esercizio 8: merge di due liste ordinate\n",
        "Uno degli algoritmi di ordinamento più efficienti è il Merge Sort, che si compone di due fasi: divisione e merge. è un algoritmo discretamente complesso, quindi non lo tratteremo interamente. Ci concentriamo invece sulla seconda parte, ovvero il merge.\n",
        "\n",
        "Scrivi una funzione `merge_lists(l1, l2)` che prende due liste ordinate `l1, l2` e ritorna una singla lista ordinata contenente gli elementi di queste due liste. Cerca di non usare `sorted()` o `list.sort()` nella soluzione dell'esercizio."
      ],
      "metadata": {
        "id": "FUnkKpMMVEnH"
      }
    },
    {
      "cell_type": "code",
      "source": [
        "def merge_lists(l1, l2):\n",
        "  lista_merged = [] # creazione lista_merged vuota\n",
        "  i = j = 0\n",
        "  while i < len(l1) and j < len(l2): # confrontiamo gli elementi l1 ed l2\n",
        "    if l1[i] < l2[j]: # confronti per il sort\n",
        "      lista_merged.append(l1[i])\n",
        "      i = i+1\n",
        "    else:\n",
        "      lista_merged.append(l2[j])\n",
        "      j = j + 1  \n",
        "\n",
        "  lista_merged.extend(l1[i:]) # aggiunta di eventuali elementi rimanenti di l1\n",
        "  lista_merged.extend(l2[j:]) # aggiunta di eventuali elementi rimanenti di l2 \n",
        "  return lista_merged                          "
      ],
      "metadata": {
        "id": "eVDuwir3VHR4"
      },
      "execution_count": null,
      "outputs": []
    },
    {
      "cell_type": "code",
      "source": [
        "assert merge_lists([1, 3, 6], [5, 7, 8, 9]) == [1, 3, 5, 6, 7, 8, 9]\n",
        "assert merge_lists([1, 2, 3], [4, 5]) == [1, 2, 3, 4, 5]\n",
        "assert merge_lists([4, 5], [1, 2, 3]) == [1, 2, 3, 4, 5]\n",
        "assert merge_lists([2, 2, 2], [2, 2, 2]) == [2, 2, 2, 2, 2, 2]\n",
        "assert merge_lists([1, 2, 3], []) == [1, 2, 3]\n",
        "assert merge_lists([], [1, 2, 3]) == [1, 2, 3]"
      ],
      "metadata": {
        "id": "ErXNNSABVG2j"
      },
      "execution_count": null,
      "outputs": []
    },
    {
      "cell_type": "markdown",
      "source": [
        "## Esercizio 9: file CSV\n",
        "Un file CSV (Comma Separated Values) è un file di testo in cui ogni riga è un record (simile a una tabella di un DB) e usa la virgola (o altro carattere speciale) per delimitare i valori dei campi all'interno del record. Spesso inoltre presenta una priga riga (header) contenente il nome di ogni colonna. Questo tipo di file è molto usato, specie per contenere dataset (insiemi di dati).\n",
        "\n",
        "Le due celle di codice che seguono scaricano un famoso file CSV (un dataset contenente dati dei passeggeri del Titanic) e mostrano le prime righe di tale file."
      ],
      "metadata": {
        "id": "6uQ3EP7n7Z1S"
      }
    },
    {
      "cell_type": "code",
      "source": [
        "!wget https://raw.githubusercontent.com/datasciencedojo/datasets/master/titanic.csv"
      ],
      "metadata": {
        "colab": {
          "base_uri": "https://localhost:8080/"
        },
        "id": "qzKFXYi29TY4",
        "outputId": "f3b8fa3a-77fb-4bdb-838c-57f1a8037776"
      },
      "execution_count": null,
      "outputs": [
        {
          "output_type": "stream",
          "name": "stdout",
          "text": [
            "--2022-12-20 16:34:38--  https://raw.githubusercontent.com/datasciencedojo/datasets/master/titanic.csv\n",
            "Resolving raw.githubusercontent.com (raw.githubusercontent.com)... 185.199.111.133, 185.199.108.133, 185.199.110.133, ...\n",
            "Connecting to raw.githubusercontent.com (raw.githubusercontent.com)|185.199.111.133|:443... connected.\n",
            "HTTP request sent, awaiting response... 200 OK\n",
            "Length: 60302 (59K) [text/plain]\n",
            "Saving to: ‘titanic.csv’\n",
            "\n",
            "\rtitanic.csv           0%[                    ]       0  --.-KB/s               \rtitanic.csv         100%[===================>]  58.89K  --.-KB/s    in 0.01s   \n",
            "\n",
            "2022-12-20 16:34:38 (5.13 MB/s) - ‘titanic.csv’ saved [60302/60302]\n",
            "\n"
          ]
        }
      ]
    },
    {
      "cell_type": "code",
      "source": [
        "!head titanic.csv"
      ],
      "metadata": {
        "colab": {
          "base_uri": "https://localhost:8080/"
        },
        "id": "IvugYqvT90St",
        "outputId": "005fbc4d-222c-49dc-95b5-17077ea88908"
      },
      "execution_count": null,
      "outputs": [
        {
          "output_type": "stream",
          "name": "stdout",
          "text": [
            "PassengerId,Survived,Pclass,Name,Sex,Age,SibSp,Parch,Ticket,Fare,Cabin,Embarked\n",
            "1,0,3,\"Braund, Mr. Owen Harris\",male,22,1,0,A/5 21171,7.25,,S\n",
            "2,1,1,\"Cumings, Mrs. John Bradley (Florence Briggs Thayer)\",female,38,1,0,PC 17599,71.2833,C85,C\n",
            "3,1,3,\"Heikkinen, Miss. Laina\",female,26,0,0,STON/O2. 3101282,7.925,,S\n",
            "4,1,1,\"Futrelle, Mrs. Jacques Heath (Lily May Peel)\",female,35,1,0,113803,53.1,C123,S\n",
            "5,0,3,\"Allen, Mr. William Henry\",male,35,0,0,373450,8.05,,S\n",
            "6,0,3,\"Moran, Mr. James\",male,,0,0,330877,8.4583,,Q\n",
            "7,0,1,\"McCarthy, Mr. Timothy J\",male,54,0,0,17463,51.8625,E46,S\n",
            "8,0,3,\"Palsson, Master. Gosta Leonard\",male,2,3,1,349909,21.075,,S\n",
            "9,1,3,\"Johnson, Mrs. Oscar W (Elisabeth Vilhelmina Berg)\",female,27,0,2,347742,11.1333,,S\n"
          ]
        }
      ]
    },
    {
      "cell_type": "markdown",
      "source": [
        "Ad esempio, la prima colonna è l'ID del passeggero, la seconda indica se è sopravvissuto o meno (notare 0/1 anzichè True/False) e la terza la classe del passeggero. Notare che in generale un record potrebbe avere dei campi mancanti (ad esempio nel primo record il campo \"cabin\" è mancante, si nota dalle doppie virgole \",,\"). \n",
        "\n",
        "L'obiettivo è definire una funzione `load_data(file)` che legge il file e ritorna una struttura dati contenente tutti i dati di tutti i passeggeri. I campi mancanti devono avere valore `None`. La scelta della struttura sta a te, ad esempio si potrebbe usare un `dict` che ha come chiavi i nomi delle colonne, oppure una classe definita ad hoc. Idealmente, la struttura dati dovrebbe permettere di accedere a un particolare record in maniera rapida (es. tramite slicing `print(data[50])` o un metodo custom `print(data.get(50))` o come vi pare dovrei riuscire ad ottenere qualunque record in maniera semplice, in questo caso il 50esimo). Sarebbe ottimale avere la possibilità di effettuare slicing \"column-wise\", ovvero richiedere una singola colonna; ad esempio, `data['Name']` o `data.col['Name']` dovrebbe ritornare un iterabile contenente il nome di tutti i passeggeri.\n",
        "\n",
        "Fatto questo, computare qualche semplice statistica del dataset usando la vostra struttura dati. Qualche suggerimento: percentuale di uomini/donne a bordo, nome più (o meno) diffuso, costo medio del biglietto, distribuzione delle età (cioè: $x$ persone con 22 anni, $y$ persone con 23 anni, $z$ con 24 anni, ...)."
      ],
      "metadata": {
        "id": "krWpDLjADLCz"
      }
    },
    {
      "cell_type": "code",
      "source": [],
      "metadata": {
        "id": "Vi1dD5jKDK1D"
      },
      "execution_count": null,
      "outputs": []
    }
  ],
  "metadata": {
    "kernelspec": {
      "display_name": "Python 3",
      "language": "python",
      "name": "python3"
    },
    "language_info": {
      "codemirror_mode": {
        "name": "ipython",
        "version": 3
      },
      "file_extension": ".py",
      "mimetype": "text/x-python",
      "name": "python",
      "nbconvert_exporter": "python",
      "pygments_lexer": "ipython3",
      "version": "3.7.3"
    },
    "latex_envs": {
      "LaTeX_envs_menu_present": true,
      "autoclose": false,
      "autocomplete": true,
      "bibliofile": "biblio.bib",
      "cite_by": "apalike",
      "current_citInitial": 1,
      "eqLabelWithNumbers": true,
      "eqNumInitial": 1,
      "hotkeys": {
        "equation": "Ctrl-E",
        "itemize": "Ctrl-I"
      },
      "labels_anchors": false,
      "latex_user_defs": false,
      "report_style_numbering": false,
      "user_envs_cfg": false
    },
    "colab": {
      "provenance": []
    }
  },
  "nbformat": 4,
  "nbformat_minor": 0
}